{
 "cells": [
  {
   "cell_type": "code",
   "execution_count": 1,
   "metadata": {},
   "outputs": [
    {
     "name": "stdout",
     "output_type": "stream",
     "text": [
      "enter base: 2\n",
      "enter exponent: 10\n",
      "Result:  1024\n",
      "Time taken:  0.0009853839874267578  seconds\n"
     ]
    }
   ],
   "source": [
    "import time \n",
    "base = int(input(\"enter base: \"))\n",
    "exponent = int(input(\"enter exponent: \"))\n",
    "\n",
    "def power(base, exponent):\n",
    "    if exponent == 0:\n",
    "        return 1;\n",
    "    else:\n",
    "        return base * power(base, exponent - 1)\n",
    "\n",
    "start_time = time.time()\n",
    "result = power(base, exponent)\n",
    "end_time = time.time()\n",
    "\n",
    "print(\"Result: \", result)\n",
    "print(\"Time taken: \", end_time - start_time, \" seconds\")\n",
    "#recursion1"
   ]
  },
  {
   "cell_type": "code",
   "execution_count": 2,
   "metadata": {},
   "outputs": [
    {
     "name": "stdout",
     "output_type": "stream",
     "text": [
      "Enter base: 2\n",
      "Enter exponent: 10\n",
      "Result:  1024\n",
      "Time taken:  0.0  seconds\n"
     ]
    }
   ],
   "source": [
    "import time\n",
    "\n",
    "def power(base, exponent):\n",
    "    result = 1\n",
    "    for i in range(exponent):\n",
    "        result = result * base\n",
    "    return result\n",
    "\n",
    "base = int(input(\"Enter base: \"))\n",
    "exponent = int(input(\"Enter exponent: \"))\n",
    "\n",
    "start_time = time.time()\n",
    "result = power(base, exponent)\n",
    "end_time = time.time()\n",
    "\n",
    "print(\"Result: \", result)\n",
    "print(\"Time taken: \", end_time - start_time, \" seconds\")\n",
    "#iteration1"
   ]
  },
  {
   "cell_type": "code",
   "execution_count": 21,
   "metadata": {},
   "outputs": [
    {
     "name": "stdout",
     "output_type": "stream",
     "text": [
      "enter n:5\n",
      "63\n",
      "iterative time:  0.0\n",
      "63\n",
      "recursive time:  0.0\n"
     ]
    }
   ],
   "source": [
    "import time\n",
    "def sum_powers_of_two(n):\n",
    "    total = 0\n",
    "    for i in range(n+1):\n",
    "        total += 2**i\n",
    "    return total\n",
    "\n",
    "def sum_powers_of_two1(n):\n",
    "    if n == 0:\n",
    "        return 1\n",
    "    else:\n",
    "        return 2**n + sum_powers_of_two(n-1)\n",
    "\n",
    "n = int(input(\"enter n:\"))\n",
    "\n",
    "\n",
    "start_time = time.time()\n",
    "iterative = sum_powers_of_two(n)\n",
    "end_time = time.time()\n",
    "\n",
    "start_time = time.time()\n",
    "recursive = sum_powers_of_two1(n)\n",
    "end_time = time.time()\n",
    "print(iterative) \n",
    "print(\"iterative time: \",end_time - start_time)\n",
    "\n",
    "print(recursive)\n",
    "print(\"recursive time: \",end_time - start_time)"
   ]
  },
  {
   "cell_type": "code",
   "execution_count": null,
   "metadata": {},
   "outputs": [],
   "source": []
  },
  {
   "cell_type": "code",
   "execution_count": null,
   "metadata": {},
   "outputs": [],
   "source": []
  }
 ],
 "metadata": {
  "kernelspec": {
   "display_name": "Python 3",
   "language": "python",
   "name": "python3"
  },
  "language_info": {
   "codemirror_mode": {
    "name": "ipython",
    "version": 3
   },
   "file_extension": ".py",
   "mimetype": "text/x-python",
   "name": "python",
   "nbconvert_exporter": "python",
   "pygments_lexer": "ipython3",
   "version": "3.8.3"
  }
 },
 "nbformat": 4,
 "nbformat_minor": 4
}
