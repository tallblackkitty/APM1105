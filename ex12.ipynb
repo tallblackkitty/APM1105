{
 "cells": [
  {
   "cell_type": "code",
   "execution_count": 1,
   "metadata": {},
   "outputs": [
    {
     "ename": "NameError",
     "evalue": "name 'secondsinput' is not defined",
     "output_type": "error",
     "traceback": [
      "\u001b[1;31m---------------------------------------------------------------------------\u001b[0m",
      "\u001b[1;31mNameError\u001b[0m                                 Traceback (most recent call last)",
      "\u001b[1;32m<ipython-input-1-af280e93d375>\u001b[0m in \u001b[0;36m<module>\u001b[1;34m()\u001b[0m\n\u001b[1;32m----> 1\u001b[1;33m \u001b[0msecondsinput\u001b[0m\u001b[1;33m(\u001b[0m\u001b[1;34m\"enter seconds: \"\u001b[0m\u001b[1;33m)\u001b[0m\u001b[1;33m\u001b[0m\u001b[0m\n\u001b[0m\u001b[0;32m      2\u001b[0m \u001b[0mseconds\u001b[0m \u001b[1;33m=\u001b[0m \u001b[0msecondsinput\u001b[0m \u001b[1;33m/\u001b[0m \u001b[1;36m60\u001b[0m\u001b[1;33m\u001b[0m\u001b[0m\n\u001b[0;32m      3\u001b[0m \u001b[0mmin\u001b[0m \u001b[1;33m=\u001b[0m \u001b[0msecondsinput\u001b[0m\u001b[1;33m//\u001b[0m\u001b[1;36m60\u001b[0m\u001b[1;33m\u001b[0m\u001b[0m\n\u001b[0;32m      4\u001b[0m \u001b[0mprint\u001b[0m\u001b[1;33m(\u001b[0m\u001b[1;34m\"%02d:%02d\"\u001b[0m\u001b[1;33m,\u001b[0m\u001b[0mmin\u001b[0m\u001b[1;33m,\u001b[0m\u001b[0msec\u001b[0m\u001b[1;33m)\u001b[0m\u001b[1;33m\u001b[0m\u001b[0m\n",
      "\u001b[1;31mNameError\u001b[0m: name 'secondsinput' is not defined"
     ]
    }
   ],
   "source": [
    "secondsinput(\"enter seconds: \")\n",
    "seconds = secondsinput / 60\n",
    "min = secondsinput//60\n",
    "print(\"%02d:%02d\",min,sec)"
   ]
  },
  {
   "cell_type": "code",
   "execution_count": 2,
   "metadata": {},
   "outputs": [
    {
     "ename": "SyntaxError",
     "evalue": "invalid syntax (<ipython-input-2-5286b9e1723a>, line 1)",
     "output_type": "error",
     "traceback": [
      "\u001b[1;36m  File \u001b[1;32m\"<ipython-input-2-5286b9e1723a>\"\u001b[1;36m, line \u001b[1;32m1\u001b[0m\n\u001b[1;33m    int secondsinput(\"enter seconds: \")\u001b[0m\n\u001b[1;37m                   ^\u001b[0m\n\u001b[1;31mSyntaxError\u001b[0m\u001b[1;31m:\u001b[0m invalid syntax\n"
     ]
    }
   ],
   "source": [
    "int secondsinput(\"enter seconds: \")\n",
    "seconds = secondsinput / 60\n",
    "min = secondsinput//60\n",
    "print(\"%02d:%02d\",min,sec)"
   ]
  },
  {
   "cell_type": "code",
   "execution_count": 3,
   "metadata": {},
   "outputs": [
    {
     "name": "stdout",
     "output_type": "stream",
     "text": [
      "input km: 4\n",
      "input min: 4\n",
      "input sec: 4\n"
     ]
    }
   ],
   "source": [
    "km = input(\"input km: \")\n",
    "min = input(\"input min: \")\n",
    "sec = input(\"input sec: \")"
   ]
  },
  {
   "cell_type": "markdown",
   "metadata": {},
   "source": [
    "km = input(\"input km: \")\n",
    "min = input(\"input min: \")\n",
    "sec = input(\"input sec: \")"
   ]
  },
  {
   "cell_type": "code",
   "execution_count": 7,
   "metadata": {},
   "outputs": [
    {
     "ename": "SyntaxError",
     "evalue": "invalid syntax (<ipython-input-7-82409d8bee28>, line 4)",
     "output_type": "error",
     "traceback": [
      "\u001b[1;36m  File \u001b[1;32m\"<ipython-input-7-82409d8bee28>\"\u001b[1;36m, line \u001b[1;32m4\u001b[0m\n\u001b[1;33m    sec1 = sec x 0.6\u001b[0m\n\u001b[1;37m               ^\u001b[0m\n\u001b[1;31mSyntaxError\u001b[0m\u001b[1;31m:\u001b[0m invalid syntax\n"
     ]
    }
   ],
   "source": [
    "km = input(\"input km: \")\n",
    "min = input(\"input min: \")\n",
    "sec = input(\"input sec: \")\n",
    "sec1 = sec x 0.6\n",
    "minsec = (min+sec)\n",
    "pace = km / minsec\n",
    "print(pace)"
   ]
  },
  {
   "cell_type": "code",
   "execution_count": 6,
   "metadata": {},
   "outputs": [
    {
     "name": "stdout",
     "output_type": "stream",
     "text": [
      "enter kilometers10\n",
      "6.211180124223602\n"
     ]
    }
   ],
   "source": [
    "km = input(\"enter kilometers\")\n",
    "mi = 1.61\n",
    "mi1 = float(km)/mi\n",
    "print(mi1)"
   ]
  },
  {
   "cell_type": "code",
   "execution_count": 22,
   "metadata": {},
   "outputs": [
    {
     "name": "stdout",
     "output_type": "stream",
     "text": [
      "input km: 10\n",
      "input min: 42\n",
      "input sec: 42\n",
      "6.874700000000002\n",
      "8.727653570337612\n"
     ]
    }
   ],
   "source": [
    "km = input(\"input km: \")\n",
    "mi = 1.61\n",
    "mi1 = float(km)/mi\n",
    "min = input(\"input min: \")\n",
    "sec = input(\"input sec: \")\n",
    "sec1 = float(sec) / 60\n",
    "minsec = float(min)+float(sec1)\n",
    "pace = float(minsec) / float(mi1)\n",
    "print(pace)\n",
    "hr = 60\n",
    "speed = float (hr) / float (pace)\n",
    "print(speed)"
   ]
  },
  {
   "cell_type": "code",
   "execution_count": null,
   "metadata": {},
   "outputs": [],
   "source": []
  }
 ],
 "metadata": {
  "kernelspec": {
   "display_name": "Python 3",
   "language": "python",
   "name": "python3"
  },
  "language_info": {
   "codemirror_mode": {
    "name": "ipython",
    "version": 3
   },
   "file_extension": ".py",
   "mimetype": "text/x-python",
   "name": "python",
   "nbconvert_exporter": "python",
   "pygments_lexer": "ipython3",
   "version": "3.7.0"
  }
 },
 "nbformat": 4,
 "nbformat_minor": 2
}
