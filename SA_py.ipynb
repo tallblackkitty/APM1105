{
 "cells": [
  {
   "cell_type": "code",
   "execution_count": 1,
   "metadata": {},
   "outputs": [
    {
     "name": "stdout",
     "output_type": "stream",
     "text": [
      "Dataset saved to file.\n"
     ]
    }
   ],
   "source": [
    "import requests\n",
    "\n",
    "# URL of the raw dataset file on GitHub\n",
    "url = 'https://raw.githubusercontent.com/AllenDowney/ThinkPython2/master/code/words.txt'\n",
    "\n",
    "# Send a GET request to the URL\n",
    "response = requests.get(url)\n",
    "\n",
    "# Check if the request was successful\n",
    "if response.status_code == 200:\n",
    "    # Save the content of the response to a file\n",
    "    with open('words.txt', 'wb') as f:\n",
    "        f.write(response.content)\n",
    "        print('Dataset saved to file.')\n",
    "else:\n",
    "    print('Failed to download dataset.')\n",
    "    "
   ]
  },
  {
   "cell_type": "code",
   "execution_count": 6,
   "metadata": {},
   "outputs": [
    {
     "name": "stdout",
     "output_type": "stream",
     "text": [
      "Total number of words: 113783\n"
     ]
    }
   ],
   "source": [
    "with open('words.txt') as f:\n",
    "    words = [line.strip() for line in f]\n",
    "    print(\"Total number of words:\", len(words)) #A"
   ]
  },
  {
   "cell_type": "code",
   "execution_count": 7,
   "metadata": {},
   "outputs": [
    {
     "name": "stdout",
     "output_type": "stream",
     "text": [
      "Longest word: counterdemonstrations\n"
     ]
    }
   ],
   "source": [
    "longest_word = max(words, key=len)\n",
    "print(\"Longest word:\", longest_word) #B"
   ]
  },
  {
   "cell_type": "code",
   "execution_count": 8,
   "metadata": {},
   "outputs": [
    {
     "name": "stdout",
     "output_type": "stream",
     "text": [
      "Enter a letter: c\n",
      "Number of words that start with 'c': 10383\n"
     ]
    }
   ],
   "source": [
    "letter = input(\"Enter a letter: \")\n",
    "letter_count = sum(1 for word in words if word.startswith(letter.lower()))\n",
    "print(f\"Number of words that start with '{letter}': {letter_count}\") #C"
   ]
  },
  {
   "cell_type": "code",
   "execution_count": 9,
   "metadata": {},
   "outputs": [
    {
     "name": "stdout",
     "output_type": "stream",
     "text": [
      "Enter a substring: format\n",
      "Words that contain 'format':\n",
      "deformation\n",
      "deformations\n",
      "format\n",
      "formate\n",
      "formates\n",
      "formation\n",
      "formations\n",
      "formative\n",
      "formats\n",
      "formatted\n",
      "formatting\n",
      "information\n",
      "informational\n",
      "informations\n",
      "informative\n",
      "malformation\n",
      "malformations\n",
      "misinformation\n",
      "misinformations\n",
      "reformat\n",
      "reformatories\n",
      "reformatory\n",
      "reformats\n",
      "reformatted\n",
      "reformatting\n",
      "transformation\n",
      "transformations\n"
     ]
    }
   ],
   "source": [
    "substring = input(\"Enter a substring: \")\n",
    "matching_words = []\n",
    "for word in words:\n",
    "    if substring.lower() in word.lower(): \n",
    "        #.lower() method is used to convert words in substring and word into lowercase before checking\n",
    "        \n",
    "        matching_words.append(word)\n",
    "\n",
    "print(\"Words that contain '{}':\".format(substring))\n",
    "for i in range(len(matching_words)):\n",
    "    print(matching_words[i])\n",
    "    #D"
   ]
  },
  {
   "cell_type": "code",
   "execution_count": 1,
   "metadata": {},
   "outputs": [
    {
     "name": "stdout",
     "output_type": "stream",
     "text": [
      "Palindromes:\n",
      "aa\n",
      "aba\n",
      "aga\n",
      "aha\n",
      "ala\n",
      "alula\n",
      "ama\n",
      "ana\n",
      "anna\n",
      "ava\n",
      "awa\n",
      "bib\n",
      "bob\n",
      "boob\n",
      "bub\n",
      "civic\n",
      "dad\n",
      "deed\n",
      "deified\n",
      "deked\n",
      "deled\n",
      "denned\n",
      "dewed\n",
      "did\n",
      "dud\n",
      "eke\n",
      "eme\n",
      "ere\n",
      "eve\n",
      "ewe\n",
      "eye\n",
      "gag\n",
      "gig\n",
      "hah\n",
      "halalah\n",
      "hallah\n",
      "huh\n",
      "kaiak\n",
      "kayak\n",
      "keek\n",
      "kook\n",
      "level\n",
      "madam\n",
      "marram\n",
      "mem\n",
      "mim\n",
      "minim\n",
      "mom\n",
      "mum\n",
      "noon\n",
      "nun\n",
      "oho\n",
      "otto\n",
      "pap\n",
      "peep\n",
      "pep\n",
      "pip\n",
      "poop\n",
      "pop\n",
      "pup\n",
      "radar\n",
      "redder\n",
      "refer\n",
      "reifier\n",
      "repaper\n",
      "reviver\n",
      "rotator\n",
      "rotor\n",
      "sagas\n",
      "sees\n",
      "selles\n",
      "sememes\n",
      "semes\n",
      "seres\n",
      "sexes\n",
      "shahs\n",
      "sis\n",
      "solos\n",
      "sos\n",
      "stets\n",
      "tat\n",
      "tenet\n",
      "terret\n",
      "tit\n",
      "toot\n",
      "tot\n",
      "tut\n",
      "vav\n",
      "waw\n",
      "wow\n",
      "yay\n"
     ]
    }
   ],
   "source": [
    "def is_palindrome(word):\n",
    "    return word == word[::-1]\n",
    "\n",
    "def print_palindromes():\n",
    "    with open('words.txt', 'r') as f:\n",
    "        words = f.readlines()\n",
    "    palindromes = [word.strip() for word in words if is_palindrome(word.strip())]\n",
    "    print('Palindromes:')\n",
    "    for palindrome in palindromes:\n",
    "        print(palindrome)\n",
    "\n",
    "print_palindromes()\n",
    "#E"
   ]
  },
  {
   "cell_type": "code",
   "execution_count": 2,
   "metadata": {},
   "outputs": [
    {
     "name": "stdout",
     "output_type": "stream",
     "text": [
      "Welcome to the word guessing game\n",
      "_ _ _ _ _ _ _ _ _ _ \n",
      "Guesses left: 7\n",
      "Guess a letter: a\n",
      "Incorrect.\n",
      "_ _ _ _ _ _ _ _ _ _ \n",
      "Guesses left: 6\n",
      "Guess a letter: e\n",
      "Correct!\n",
      "_ e _ _ _ _ _ _ _ _ \n",
      "Guesses left: 6\n",
      "Guess a letter: h\n",
      "Incorrect.\n",
      "_ e _ _ _ _ _ _ _ _ \n",
      "Guesses left: 5\n",
      "Guess a letter: v\n",
      "Incorrect.\n",
      "_ e _ _ _ _ _ _ _ _ \n",
      "Guesses left: 4\n",
      "Guess a letter: n\n",
      "Correct!\n",
      "_ e _ _ _ _ _ _ n _ \n",
      "Guesses left: 4\n",
      "Guess a letter: d\n",
      "Correct!\n",
      "d e _ _ _ _ _ _ n _ \n",
      "Guesses left: 4\n",
      "Guess a letter: u\n",
      "Incorrect.\n",
      "d e _ _ _ _ _ _ n _ \n",
      "Guesses left: 3\n",
      "Guess a letter: i\n",
      "Correct!\n",
      "d e _ _ _ _ _ i n _ \n",
      "Guesses left: 3\n",
      "Guess a letter: c\n",
      "Correct!\n",
      "d e _ _ _ c _ i n _ \n",
      "Guesses left: 3\n",
      "Guess a letter: t\n",
      "Incorrect.\n",
      "d e _ _ _ c _ i n _ \n",
      "Guesses left: 2\n",
      "Guess a letter: w\n",
      "Incorrect.\n",
      "d e _ _ _ c _ i n _ \n",
      "Guesses left: 1\n",
      "Guess a letter: r\n",
      "Correct!\n",
      "d e _ r _ c _ i n _ \n",
      "Guesses left: 1\n",
      "Guess a letter: l\n",
      "Incorrect.\n",
      "Sorry, you lose. The word was \"defrocking\".\n"
     ]
    }
   ],
   "source": [
    "import random\n",
    "\n",
    "def get_word():\n",
    "    with open('words.txt', 'r') as f:\n",
    "        words = f.readlines()\n",
    "    return random.choice(words).strip()\n",
    "\n",
    "def display_word(word, guessed_letters):\n",
    "    for letter in word:\n",
    "        if letter in guessed_letters:\n",
    "            print(letter, end=' ')\n",
    "        else:\n",
    "            print('_', end=' ')\n",
    "    print()\n",
    "\n",
    "def get_guess(guessed_letters):\n",
    "    while True:\n",
    "        guess = input('Guess a letter: ').lower()\n",
    "        if len(guess) != 1:\n",
    "            print('Please enter a single letter.')\n",
    "        elif guess in guessed_letters:\n",
    "            print('You already guessed that letter.')\n",
    "        elif not guess.isalpha():\n",
    "            print('Please enter a letter.')\n",
    "        else:\n",
    "            return guess\n",
    "\n",
    "def main():\n",
    "    print('Welcome to the word guessing game')\n",
    "    word = get_word()\n",
    "    guessed_letters = set()\n",
    "    num_guesses = 7\n",
    "\n",
    "    while num_guesses > 0:\n",
    "        display_word(word, guessed_letters)\n",
    "        print(f'Guesses left: {num_guesses}')\n",
    "        guess = get_guess(guessed_letters)\n",
    "        guessed_letters.add(guess)\n",
    "        if guess in word:\n",
    "            print('Correct!')\n",
    "            if all(letter in guessed_letters for letter in word):\n",
    "                print('Congratulations, you guessed the word')\n",
    "                return\n",
    "        else:\n",
    "            print('Incorrect.')\n",
    "            num_guesses -= 1\n",
    "\n",
    "    print(f'Sorry, you lose. The word was \"{word}\".')\n",
    "\n",
    "if __name__ == '__main__':\n",
    "    main()"
   ]
  },
  {
   "cell_type": "code",
   "execution_count": 3,
   "metadata": {},
   "outputs": [
    {
     "name": "stdout",
     "output_type": "stream",
     "text": [
      "Fibonacci sequence using iteration for n = 30: 832040\n",
      "Rendering time using iteration: 0.00000000 seconds\n",
      "Fibonacci sequence using recursion for n = 30: 832040\n",
      "Rendering time using recursion: 0.44943547 seconds\n"
     ]
    }
   ],
   "source": [
    "import time\n",
    "\n",
    "def fib_iter(n):\n",
    "    if n <= 1:\n",
    "        return n\n",
    "    prev1, prev2 = 0, 1\n",
    "    for i in range(2, n+1):\n",
    "        curr = prev1 + prev2\n",
    "        prev1, prev2 = prev2, curr\n",
    "    return curr\n",
    "\n",
    "def fib_rec(n):\n",
    "    if n <= 1:\n",
    "        return n\n",
    "    return fib_rec(n-1) + fib_rec(n-2)\n",
    "n = 30\n",
    "\n",
    "start = time.time()\n",
    "fibonacci_iter = fib_iter(n)\n",
    "end = time.time()\n",
    "time_iter = end - start\n",
    "\n",
    "start = time.time()\n",
    "fibonacci_rec = fib_rec(n)\n",
    "end = time.time()\n",
    "time_rec = end - start\n",
    "\n",
    "print(\"Fibonacci sequence using iteration for n = {}: {}\".format(n, fibonacci_iter))\n",
    "print(\"Rendering time using iteration: {:.8f} seconds\".format(time_iter))\n",
    "\n",
    "print(\"Fibonacci sequence using recursion for n = {}: {}\".format(n, fibonacci_rec))\n",
    "print(\"Rendering time using recursion: {:.8f} seconds\".format(time_rec))\n",
    "#2"
   ]
  },
  {
   "cell_type": "code",
   "execution_count": null,
   "metadata": {},
   "outputs": [],
   "source": []
  }
 ],
 "metadata": {
  "kernelspec": {
   "display_name": "Python 3",
   "language": "python",
   "name": "python3"
  },
  "language_info": {
   "codemirror_mode": {
    "name": "ipython",
    "version": 3
   },
   "file_extension": ".py",
   "mimetype": "text/x-python",
   "name": "python",
   "nbconvert_exporter": "python",
   "pygments_lexer": "ipython3",
   "version": "3.8.3"
  }
 },
 "nbformat": 4,
 "nbformat_minor": 4
}
