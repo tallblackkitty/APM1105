{
 "cells": [
  {
   "cell_type": "code",
   "execution_count": 2,
   "metadata": {},
   "outputs": [],
   "source": [
    "class Circle:\n",
    "    def __init__(circle1, center, radius):\n",
    "        circle1.center = center\n",
    "        circle1.radius = radius\n",
    "\n",
    "class Point:\n",
    "    def __init__(circle1, x, y):\n",
    "        circle1.x = x\n",
    "        circle1.y = y\n",
    "\n",
    "center = Point(150, 100)\n",
    "radius = 75\n",
    "\n",
    "circle = Circle(center, radius)"
   ]
  },
  {
   "cell_type": "code",
   "execution_count": 6,
   "metadata": {},
   "outputs": [
    {
     "name": "stdout",
     "output_type": "stream",
     "text": [
      "Enter the x-coordinate of the point: 3\n",
      "Enter the y-coordinate of the point: 5\n",
      "The point is outside the circle\n"
     ]
    }
   ],
   "source": [
    "def point_in_circle(circle, point):\n",
    "    equation = ((point.x - circle.center.x)**2 + (point.y - circle.center.y)**2)\n",
    "    equation = equation ** 0.5\n",
    "    \n",
    "    if equation <= circle.radius:\n",
    "        return True\n",
    "    else:\n",
    "        return False\n",
    "\n",
    "def point_coordinates():\n",
    "    x = float(input(\"Enter the x-coordinate of the point: \"))\n",
    "    y = float(input(\"Enter the y-coordinate of the point: \"))\n",
    "    return Point(x, y)\n",
    "\n",
    "point = point_coordinates()\n",
    "\n",
    "if point_in_circle(circle, point):\n",
    "    print(\"The point is inside the circle\")\n",
    "else:\n",
    "    print(\"The point is outside the circle\")"
   ]
  },
  {
   "cell_type": "code",
   "execution_count": 7,
   "metadata": {},
   "outputs": [
    {
     "name": "stdout",
     "output_type": "stream",
     "text": [
      "Enter the width of the rectangle: 2\n",
      "Enter the height of the rectangle: 5\n",
      "Enter the x-coordinate of the bottom-left corner of the rectangle: 3\n",
      "Enter the y-coordinate of the bottom-left corner of the rectangle: 5\n",
      "The rectangle is not inside of the circle.\n"
     ]
    }
   ],
   "source": [
    "class Rectangle:\n",
    "    def __init__(self, corner, width, height):\n",
    "        self.corner = corner\n",
    "        self.width = width\n",
    "        self.height = height\n",
    "\n",
    "def rect_in_circle(circle, rectangle):\n",
    "    x1, y1 = rectangle.corner.x, rectangle.corner.y\n",
    "    x2, y2 = x1 + rectangle.width, y1 + rectangle.height\n",
    "    \n",
    "    if ((x1 - circle.center.x)**2 + (y1 - circle.center.y)**2)**0.5 <= circle.radius \\\n",
    "        and ((x2 - circle.center.x)**2 + (y1 - circle.center.y)**2)**0.5 <= circle.radius \\\n",
    "        and ((x1 - circle.center.x)**2 + (y2 - circle.center.y)**2)**0.5 <= circle.radius \\\n",
    "        and ((x2 - circle.center.x)**2 + (y2 - circle.center.y)**2)**0.5 <= circle.radius:\n",
    "        return True\n",
    "    else:\n",
    "        return False\n",
    "\n",
    "width = float(input(\"Enter the width of the rectangle: \"))\n",
    "height = float(input(\"Enter the height of the rectangle: \"))\n",
    "x1 = float(input(\"Enter the x-coordinate of the bottom-left corner of the rectangle: \"))\n",
    "y1 = float(input(\"Enter the y-coordinate of the bottom-left corner of the rectangle: \"))\n",
    "\n",
    "rectangle = Rectangle(Point(x1, y1), width, height)\n",
    "\n",
    "if rect_in_circle(circle, rectangle):\n",
    "    print(\"The rectangle is inside of the circle.\")\n",
    "else:\n",
    "    print(\"The rectangle is not inside of the circle.\")"
   ]
  },
  {
   "cell_type": "code",
   "execution_count": null,
   "metadata": {},
   "outputs": [],
   "source": []
  }
 ],
 "metadata": {
  "kernelspec": {
   "display_name": "Python 3",
   "language": "python",
   "name": "python3"
  },
  "language_info": {
   "codemirror_mode": {
    "name": "ipython",
    "version": 3
   },
   "file_extension": ".py",
   "mimetype": "text/x-python",
   "name": "python",
   "nbconvert_exporter": "python",
   "pygments_lexer": "ipython3",
   "version": "3.8.3"
  }
 },
 "nbformat": 4,
 "nbformat_minor": 4
}
